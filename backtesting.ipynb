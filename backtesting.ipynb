{
 "cells": [
  {
   "cell_type": "code",
   "execution_count": 2,
   "metadata": {
    "collapsed": true
   },
   "outputs": [],
   "source": [
    "import pandas as pd"
   ]
  },
  {
   "cell_type": "code",
   "execution_count": 3,
   "outputs": [],
   "source": [
    "df = pd.read_csv('002707.csv', parse_dates=['Day'])"
   ],
   "metadata": {
    "collapsed": false
   }
  },
  {
   "cell_type": "code",
   "execution_count": 4,
   "outputs": [
    {
     "data": {
      "text/plain": "          Day  Closing  Volume\n0  2022-07-22     6.81    6.81\n1  2022-07-25     6.58    6.58\n2  2022-07-26     6.93    6.93\n3  2022-07-27     6.73    6.73\n4  2022-07-28     6.66    6.66\n..        ...      ...     ...\n95 2022-12-12    10.26   10.26\n96 2022-12-13    10.65   10.65\n97 2022-12-14    11.23   11.23\n98 2022-12-15    10.63   10.63\n99 2022-12-16    10.62   10.62\n\n[100 rows x 3 columns]",
      "text/html": "<div>\n<style scoped>\n    .dataframe tbody tr th:only-of-type {\n        vertical-align: middle;\n    }\n\n    .dataframe tbody tr th {\n        vertical-align: top;\n    }\n\n    .dataframe thead th {\n        text-align: right;\n    }\n</style>\n<table border=\"1\" class=\"dataframe\">\n  <thead>\n    <tr style=\"text-align: right;\">\n      <th></th>\n      <th>Day</th>\n      <th>Closing</th>\n      <th>Volume</th>\n    </tr>\n  </thead>\n  <tbody>\n    <tr>\n      <th>0</th>\n      <td>2022-07-22</td>\n      <td>6.81</td>\n      <td>6.81</td>\n    </tr>\n    <tr>\n      <th>1</th>\n      <td>2022-07-25</td>\n      <td>6.58</td>\n      <td>6.58</td>\n    </tr>\n    <tr>\n      <th>2</th>\n      <td>2022-07-26</td>\n      <td>6.93</td>\n      <td>6.93</td>\n    </tr>\n    <tr>\n      <th>3</th>\n      <td>2022-07-27</td>\n      <td>6.73</td>\n      <td>6.73</td>\n    </tr>\n    <tr>\n      <th>4</th>\n      <td>2022-07-28</td>\n      <td>6.66</td>\n      <td>6.66</td>\n    </tr>\n    <tr>\n      <th>...</th>\n      <td>...</td>\n      <td>...</td>\n      <td>...</td>\n    </tr>\n    <tr>\n      <th>95</th>\n      <td>2022-12-12</td>\n      <td>10.26</td>\n      <td>10.26</td>\n    </tr>\n    <tr>\n      <th>96</th>\n      <td>2022-12-13</td>\n      <td>10.65</td>\n      <td>10.65</td>\n    </tr>\n    <tr>\n      <th>97</th>\n      <td>2022-12-14</td>\n      <td>11.23</td>\n      <td>11.23</td>\n    </tr>\n    <tr>\n      <th>98</th>\n      <td>2022-12-15</td>\n      <td>10.63</td>\n      <td>10.63</td>\n    </tr>\n    <tr>\n      <th>99</th>\n      <td>2022-12-16</td>\n      <td>10.62</td>\n      <td>10.62</td>\n    </tr>\n  </tbody>\n</table>\n<p>100 rows × 3 columns</p>\n</div>"
     },
     "execution_count": 4,
     "metadata": {},
     "output_type": "execute_result"
    }
   ],
   "source": [
    "df"
   ],
   "metadata": {
    "collapsed": false
   }
  },
  {
   "cell_type": "code",
   "execution_count": 6,
   "outputs": [],
   "source": [
    "# 计算5日均线和20日均线\n",
    "df['SMA5'] = df['Closing'].rolling(window=5).mean()\n",
    "df['SMA20'] = df['Closing'].rolling(window=20).mean()"
   ],
   "metadata": {
    "collapsed": false
   }
  },
  {
   "cell_type": "code",
   "execution_count": 7,
   "outputs": [
    {
     "data": {
      "text/plain": "          Day  Closing  Volume    SMA5   SMA20\n0  2022-07-22     6.81    6.81     NaN     NaN\n1  2022-07-25     6.58    6.58     NaN     NaN\n2  2022-07-26     6.93    6.93     NaN     NaN\n3  2022-07-27     6.73    6.73     NaN     NaN\n4  2022-07-28     6.66    6.66   6.742     NaN\n..        ...      ...     ...     ...     ...\n95 2022-12-12    10.26   10.26   9.818  8.6615\n96 2022-12-13    10.65   10.65  10.134  8.7540\n97 2022-12-14    11.23   11.23  10.512  8.8950\n98 2022-12-15    10.63   10.63  10.584  8.9980\n99 2022-12-16    10.62   10.62  10.678  9.1210\n\n[100 rows x 5 columns]",
      "text/html": "<div>\n<style scoped>\n    .dataframe tbody tr th:only-of-type {\n        vertical-align: middle;\n    }\n\n    .dataframe tbody tr th {\n        vertical-align: top;\n    }\n\n    .dataframe thead th {\n        text-align: right;\n    }\n</style>\n<table border=\"1\" class=\"dataframe\">\n  <thead>\n    <tr style=\"text-align: right;\">\n      <th></th>\n      <th>Day</th>\n      <th>Closing</th>\n      <th>Volume</th>\n      <th>SMA5</th>\n      <th>SMA20</th>\n    </tr>\n  </thead>\n  <tbody>\n    <tr>\n      <th>0</th>\n      <td>2022-07-22</td>\n      <td>6.81</td>\n      <td>6.81</td>\n      <td>NaN</td>\n      <td>NaN</td>\n    </tr>\n    <tr>\n      <th>1</th>\n      <td>2022-07-25</td>\n      <td>6.58</td>\n      <td>6.58</td>\n      <td>NaN</td>\n      <td>NaN</td>\n    </tr>\n    <tr>\n      <th>2</th>\n      <td>2022-07-26</td>\n      <td>6.93</td>\n      <td>6.93</td>\n      <td>NaN</td>\n      <td>NaN</td>\n    </tr>\n    <tr>\n      <th>3</th>\n      <td>2022-07-27</td>\n      <td>6.73</td>\n      <td>6.73</td>\n      <td>NaN</td>\n      <td>NaN</td>\n    </tr>\n    <tr>\n      <th>4</th>\n      <td>2022-07-28</td>\n      <td>6.66</td>\n      <td>6.66</td>\n      <td>6.742</td>\n      <td>NaN</td>\n    </tr>\n    <tr>\n      <th>...</th>\n      <td>...</td>\n      <td>...</td>\n      <td>...</td>\n      <td>...</td>\n      <td>...</td>\n    </tr>\n    <tr>\n      <th>95</th>\n      <td>2022-12-12</td>\n      <td>10.26</td>\n      <td>10.26</td>\n      <td>9.818</td>\n      <td>8.6615</td>\n    </tr>\n    <tr>\n      <th>96</th>\n      <td>2022-12-13</td>\n      <td>10.65</td>\n      <td>10.65</td>\n      <td>10.134</td>\n      <td>8.7540</td>\n    </tr>\n    <tr>\n      <th>97</th>\n      <td>2022-12-14</td>\n      <td>11.23</td>\n      <td>11.23</td>\n      <td>10.512</td>\n      <td>8.8950</td>\n    </tr>\n    <tr>\n      <th>98</th>\n      <td>2022-12-15</td>\n      <td>10.63</td>\n      <td>10.63</td>\n      <td>10.584</td>\n      <td>8.9980</td>\n    </tr>\n    <tr>\n      <th>99</th>\n      <td>2022-12-16</td>\n      <td>10.62</td>\n      <td>10.62</td>\n      <td>10.678</td>\n      <td>9.1210</td>\n    </tr>\n  </tbody>\n</table>\n<p>100 rows × 5 columns</p>\n</div>"
     },
     "execution_count": 7,
     "metadata": {},
     "output_type": "execute_result"
    }
   ],
   "source": [
    "df"
   ],
   "metadata": {
    "collapsed": false
   }
  },
  {
   "cell_type": "code",
   "execution_count": 9,
   "outputs": [
    {
     "data": {
      "text/plain": "          Day  Closing  Volume    SMA5   SMA20  Signal\n0  2022-07-22     6.81    6.81     NaN     NaN       0\n1  2022-07-25     6.58    6.58     NaN     NaN       0\n2  2022-07-26     6.93    6.93     NaN     NaN       0\n3  2022-07-27     6.73    6.73     NaN     NaN       0\n4  2022-07-28     6.66    6.66   6.742     NaN       0\n..        ...      ...     ...     ...     ...     ...\n95 2022-12-12    10.26   10.26   9.818  8.6615       0\n96 2022-12-13    10.65   10.65  10.134  8.7540       0\n97 2022-12-14    11.23   11.23  10.512  8.8950       0\n98 2022-12-15    10.63   10.63  10.584  8.9980       0\n99 2022-12-16    10.62   10.62  10.678  9.1210       0\n\n[100 rows x 6 columns]",
      "text/html": "<div>\n<style scoped>\n    .dataframe tbody tr th:only-of-type {\n        vertical-align: middle;\n    }\n\n    .dataframe tbody tr th {\n        vertical-align: top;\n    }\n\n    .dataframe thead th {\n        text-align: right;\n    }\n</style>\n<table border=\"1\" class=\"dataframe\">\n  <thead>\n    <tr style=\"text-align: right;\">\n      <th></th>\n      <th>Day</th>\n      <th>Closing</th>\n      <th>Volume</th>\n      <th>SMA5</th>\n      <th>SMA20</th>\n      <th>Signal</th>\n    </tr>\n  </thead>\n  <tbody>\n    <tr>\n      <th>0</th>\n      <td>2022-07-22</td>\n      <td>6.81</td>\n      <td>6.81</td>\n      <td>NaN</td>\n      <td>NaN</td>\n      <td>0</td>\n    </tr>\n    <tr>\n      <th>1</th>\n      <td>2022-07-25</td>\n      <td>6.58</td>\n      <td>6.58</td>\n      <td>NaN</td>\n      <td>NaN</td>\n      <td>0</td>\n    </tr>\n    <tr>\n      <th>2</th>\n      <td>2022-07-26</td>\n      <td>6.93</td>\n      <td>6.93</td>\n      <td>NaN</td>\n      <td>NaN</td>\n      <td>0</td>\n    </tr>\n    <tr>\n      <th>3</th>\n      <td>2022-07-27</td>\n      <td>6.73</td>\n      <td>6.73</td>\n      <td>NaN</td>\n      <td>NaN</td>\n      <td>0</td>\n    </tr>\n    <tr>\n      <th>4</th>\n      <td>2022-07-28</td>\n      <td>6.66</td>\n      <td>6.66</td>\n      <td>6.742</td>\n      <td>NaN</td>\n      <td>0</td>\n    </tr>\n    <tr>\n      <th>...</th>\n      <td>...</td>\n      <td>...</td>\n      <td>...</td>\n      <td>...</td>\n      <td>...</td>\n      <td>...</td>\n    </tr>\n    <tr>\n      <th>95</th>\n      <td>2022-12-12</td>\n      <td>10.26</td>\n      <td>10.26</td>\n      <td>9.818</td>\n      <td>8.6615</td>\n      <td>0</td>\n    </tr>\n    <tr>\n      <th>96</th>\n      <td>2022-12-13</td>\n      <td>10.65</td>\n      <td>10.65</td>\n      <td>10.134</td>\n      <td>8.7540</td>\n      <td>0</td>\n    </tr>\n    <tr>\n      <th>97</th>\n      <td>2022-12-14</td>\n      <td>11.23</td>\n      <td>11.23</td>\n      <td>10.512</td>\n      <td>8.8950</td>\n      <td>0</td>\n    </tr>\n    <tr>\n      <th>98</th>\n      <td>2022-12-15</td>\n      <td>10.63</td>\n      <td>10.63</td>\n      <td>10.584</td>\n      <td>8.9980</td>\n      <td>0</td>\n    </tr>\n    <tr>\n      <th>99</th>\n      <td>2022-12-16</td>\n      <td>10.62</td>\n      <td>10.62</td>\n      <td>10.678</td>\n      <td>9.1210</td>\n      <td>0</td>\n    </tr>\n  </tbody>\n</table>\n<p>100 rows × 6 columns</p>\n</div>"
     },
     "execution_count": 9,
     "metadata": {},
     "output_type": "execute_result"
    }
   ],
   "source": [
    "# 初始化交易信号列\n",
    "df['Signal'] = 0\n",
    "df"
   ],
   "metadata": {
    "collapsed": false
   }
  },
  {
   "cell_type": "code",
   "execution_count": 10,
   "outputs": [
    {
     "data": {
      "text/plain": "          Day  Closing  Volume    SMA5   SMA20  Signal\n0  2022-07-22     6.81    6.81     NaN     NaN       0\n1  2022-07-25     6.58    6.58     NaN     NaN       0\n2  2022-07-26     6.93    6.93     NaN     NaN       0\n3  2022-07-27     6.73    6.73     NaN     NaN       0\n4  2022-07-28     6.66    6.66   6.742     NaN       0\n..        ...      ...     ...     ...     ...     ...\n95 2022-12-12    10.26   10.26   9.818  8.6615       1\n96 2022-12-13    10.65   10.65  10.134  8.7540       1\n97 2022-12-14    11.23   11.23  10.512  8.8950       1\n98 2022-12-15    10.63   10.63  10.584  8.9980       1\n99 2022-12-16    10.62   10.62  10.678  9.1210       1\n\n[100 rows x 6 columns]",
      "text/html": "<div>\n<style scoped>\n    .dataframe tbody tr th:only-of-type {\n        vertical-align: middle;\n    }\n\n    .dataframe tbody tr th {\n        vertical-align: top;\n    }\n\n    .dataframe thead th {\n        text-align: right;\n    }\n</style>\n<table border=\"1\" class=\"dataframe\">\n  <thead>\n    <tr style=\"text-align: right;\">\n      <th></th>\n      <th>Day</th>\n      <th>Closing</th>\n      <th>Volume</th>\n      <th>SMA5</th>\n      <th>SMA20</th>\n      <th>Signal</th>\n    </tr>\n  </thead>\n  <tbody>\n    <tr>\n      <th>0</th>\n      <td>2022-07-22</td>\n      <td>6.81</td>\n      <td>6.81</td>\n      <td>NaN</td>\n      <td>NaN</td>\n      <td>0</td>\n    </tr>\n    <tr>\n      <th>1</th>\n      <td>2022-07-25</td>\n      <td>6.58</td>\n      <td>6.58</td>\n      <td>NaN</td>\n      <td>NaN</td>\n      <td>0</td>\n    </tr>\n    <tr>\n      <th>2</th>\n      <td>2022-07-26</td>\n      <td>6.93</td>\n      <td>6.93</td>\n      <td>NaN</td>\n      <td>NaN</td>\n      <td>0</td>\n    </tr>\n    <tr>\n      <th>3</th>\n      <td>2022-07-27</td>\n      <td>6.73</td>\n      <td>6.73</td>\n      <td>NaN</td>\n      <td>NaN</td>\n      <td>0</td>\n    </tr>\n    <tr>\n      <th>4</th>\n      <td>2022-07-28</td>\n      <td>6.66</td>\n      <td>6.66</td>\n      <td>6.742</td>\n      <td>NaN</td>\n      <td>0</td>\n    </tr>\n    <tr>\n      <th>...</th>\n      <td>...</td>\n      <td>...</td>\n      <td>...</td>\n      <td>...</td>\n      <td>...</td>\n      <td>...</td>\n    </tr>\n    <tr>\n      <th>95</th>\n      <td>2022-12-12</td>\n      <td>10.26</td>\n      <td>10.26</td>\n      <td>9.818</td>\n      <td>8.6615</td>\n      <td>1</td>\n    </tr>\n    <tr>\n      <th>96</th>\n      <td>2022-12-13</td>\n      <td>10.65</td>\n      <td>10.65</td>\n      <td>10.134</td>\n      <td>8.7540</td>\n      <td>1</td>\n    </tr>\n    <tr>\n      <th>97</th>\n      <td>2022-12-14</td>\n      <td>11.23</td>\n      <td>11.23</td>\n      <td>10.512</td>\n      <td>8.8950</td>\n      <td>1</td>\n    </tr>\n    <tr>\n      <th>98</th>\n      <td>2022-12-15</td>\n      <td>10.63</td>\n      <td>10.63</td>\n      <td>10.584</td>\n      <td>8.9980</td>\n      <td>1</td>\n    </tr>\n    <tr>\n      <th>99</th>\n      <td>2022-12-16</td>\n      <td>10.62</td>\n      <td>10.62</td>\n      <td>10.678</td>\n      <td>9.1210</td>\n      <td>1</td>\n    </tr>\n  </tbody>\n</table>\n<p>100 rows × 6 columns</p>\n</div>"
     },
     "execution_count": 10,
     "metadata": {},
     "output_type": "execute_result"
    }
   ],
   "source": [
    "# 生成交易信号\n",
    "df.loc[df['SMA5'] > df['SMA20'], 'Signal'] = 1  # 短期均线上穿长期均线，买入信号\n",
    "df.loc[df['SMA5'] < df['SMA20'], 'Signal'] = -1  # 短期均线下穿长期均线，卖出信号\n",
    "df"
   ],
   "metadata": {
    "collapsed": false
   }
  },
  {
   "cell_type": "code",
   "execution_count": 11,
   "outputs": [
    {
     "data": {
      "text/plain": "          Day  Closing  Volume    SMA5   SMA20  Signal  Position\n0  2022-07-22     6.81    6.81     NaN     NaN       0       NaN\n1  2022-07-25     6.58    6.58     NaN     NaN       0       0.0\n2  2022-07-26     6.93    6.93     NaN     NaN       0       0.0\n3  2022-07-27     6.73    6.73     NaN     NaN       0       0.0\n4  2022-07-28     6.66    6.66   6.742     NaN       0       0.0\n..        ...      ...     ...     ...     ...     ...       ...\n95 2022-12-12    10.26   10.26   9.818  8.6615       1       0.0\n96 2022-12-13    10.65   10.65  10.134  8.7540       1       0.0\n97 2022-12-14    11.23   11.23  10.512  8.8950       1       0.0\n98 2022-12-15    10.63   10.63  10.584  8.9980       1       0.0\n99 2022-12-16    10.62   10.62  10.678  9.1210       1       0.0\n\n[100 rows x 7 columns]",
      "text/html": "<div>\n<style scoped>\n    .dataframe tbody tr th:only-of-type {\n        vertical-align: middle;\n    }\n\n    .dataframe tbody tr th {\n        vertical-align: top;\n    }\n\n    .dataframe thead th {\n        text-align: right;\n    }\n</style>\n<table border=\"1\" class=\"dataframe\">\n  <thead>\n    <tr style=\"text-align: right;\">\n      <th></th>\n      <th>Day</th>\n      <th>Closing</th>\n      <th>Volume</th>\n      <th>SMA5</th>\n      <th>SMA20</th>\n      <th>Signal</th>\n      <th>Position</th>\n    </tr>\n  </thead>\n  <tbody>\n    <tr>\n      <th>0</th>\n      <td>2022-07-22</td>\n      <td>6.81</td>\n      <td>6.81</td>\n      <td>NaN</td>\n      <td>NaN</td>\n      <td>0</td>\n      <td>NaN</td>\n    </tr>\n    <tr>\n      <th>1</th>\n      <td>2022-07-25</td>\n      <td>6.58</td>\n      <td>6.58</td>\n      <td>NaN</td>\n      <td>NaN</td>\n      <td>0</td>\n      <td>0.0</td>\n    </tr>\n    <tr>\n      <th>2</th>\n      <td>2022-07-26</td>\n      <td>6.93</td>\n      <td>6.93</td>\n      <td>NaN</td>\n      <td>NaN</td>\n      <td>0</td>\n      <td>0.0</td>\n    </tr>\n    <tr>\n      <th>3</th>\n      <td>2022-07-27</td>\n      <td>6.73</td>\n      <td>6.73</td>\n      <td>NaN</td>\n      <td>NaN</td>\n      <td>0</td>\n      <td>0.0</td>\n    </tr>\n    <tr>\n      <th>4</th>\n      <td>2022-07-28</td>\n      <td>6.66</td>\n      <td>6.66</td>\n      <td>6.742</td>\n      <td>NaN</td>\n      <td>0</td>\n      <td>0.0</td>\n    </tr>\n    <tr>\n      <th>...</th>\n      <td>...</td>\n      <td>...</td>\n      <td>...</td>\n      <td>...</td>\n      <td>...</td>\n      <td>...</td>\n      <td>...</td>\n    </tr>\n    <tr>\n      <th>95</th>\n      <td>2022-12-12</td>\n      <td>10.26</td>\n      <td>10.26</td>\n      <td>9.818</td>\n      <td>8.6615</td>\n      <td>1</td>\n      <td>0.0</td>\n    </tr>\n    <tr>\n      <th>96</th>\n      <td>2022-12-13</td>\n      <td>10.65</td>\n      <td>10.65</td>\n      <td>10.134</td>\n      <td>8.7540</td>\n      <td>1</td>\n      <td>0.0</td>\n    </tr>\n    <tr>\n      <th>97</th>\n      <td>2022-12-14</td>\n      <td>11.23</td>\n      <td>11.23</td>\n      <td>10.512</td>\n      <td>8.8950</td>\n      <td>1</td>\n      <td>0.0</td>\n    </tr>\n    <tr>\n      <th>98</th>\n      <td>2022-12-15</td>\n      <td>10.63</td>\n      <td>10.63</td>\n      <td>10.584</td>\n      <td>8.9980</td>\n      <td>1</td>\n      <td>0.0</td>\n    </tr>\n    <tr>\n      <th>99</th>\n      <td>2022-12-16</td>\n      <td>10.62</td>\n      <td>10.62</td>\n      <td>10.678</td>\n      <td>9.1210</td>\n      <td>1</td>\n      <td>0.0</td>\n    </tr>\n  </tbody>\n</table>\n<p>100 rows × 7 columns</p>\n</div>"
     },
     "execution_count": 11,
     "metadata": {},
     "output_type": "execute_result"
    }
   ],
   "source": [
    "# 计算持仓\n",
    "df['Position'] = df['Signal'].diff()\n",
    "df"
   ],
   "metadata": {
    "collapsed": false
   }
  },
  {
   "cell_type": "code",
   "execution_count": 12,
   "outputs": [
    {
     "data": {
      "text/plain": "          Day  Closing  Volume    SMA5   SMA20  Signal  Position\n0  2022-07-22     6.81    6.81     NaN     NaN       0       0.0\n1  2022-07-25     6.58    6.58     NaN     NaN       0       0.0\n2  2022-07-26     6.93    6.93     NaN     NaN       0       0.0\n3  2022-07-27     6.73    6.73     NaN     NaN       0       0.0\n4  2022-07-28     6.66    6.66   6.742     NaN       0       0.0\n..        ...      ...     ...     ...     ...     ...       ...\n95 2022-12-12    10.26   10.26   9.818  8.6615       1       0.0\n96 2022-12-13    10.65   10.65  10.134  8.7540       1       0.0\n97 2022-12-14    11.23   11.23  10.512  8.8950       1       0.0\n98 2022-12-15    10.63   10.63  10.584  8.9980       1       0.0\n99 2022-12-16    10.62   10.62  10.678  9.1210       1       0.0\n\n[100 rows x 7 columns]",
      "text/html": "<div>\n<style scoped>\n    .dataframe tbody tr th:only-of-type {\n        vertical-align: middle;\n    }\n\n    .dataframe tbody tr th {\n        vertical-align: top;\n    }\n\n    .dataframe thead th {\n        text-align: right;\n    }\n</style>\n<table border=\"1\" class=\"dataframe\">\n  <thead>\n    <tr style=\"text-align: right;\">\n      <th></th>\n      <th>Day</th>\n      <th>Closing</th>\n      <th>Volume</th>\n      <th>SMA5</th>\n      <th>SMA20</th>\n      <th>Signal</th>\n      <th>Position</th>\n    </tr>\n  </thead>\n  <tbody>\n    <tr>\n      <th>0</th>\n      <td>2022-07-22</td>\n      <td>6.81</td>\n      <td>6.81</td>\n      <td>NaN</td>\n      <td>NaN</td>\n      <td>0</td>\n      <td>0.0</td>\n    </tr>\n    <tr>\n      <th>1</th>\n      <td>2022-07-25</td>\n      <td>6.58</td>\n      <td>6.58</td>\n      <td>NaN</td>\n      <td>NaN</td>\n      <td>0</td>\n      <td>0.0</td>\n    </tr>\n    <tr>\n      <th>2</th>\n      <td>2022-07-26</td>\n      <td>6.93</td>\n      <td>6.93</td>\n      <td>NaN</td>\n      <td>NaN</td>\n      <td>0</td>\n      <td>0.0</td>\n    </tr>\n    <tr>\n      <th>3</th>\n      <td>2022-07-27</td>\n      <td>6.73</td>\n      <td>6.73</td>\n      <td>NaN</td>\n      <td>NaN</td>\n      <td>0</td>\n      <td>0.0</td>\n    </tr>\n    <tr>\n      <th>4</th>\n      <td>2022-07-28</td>\n      <td>6.66</td>\n      <td>6.66</td>\n      <td>6.742</td>\n      <td>NaN</td>\n      <td>0</td>\n      <td>0.0</td>\n    </tr>\n    <tr>\n      <th>...</th>\n      <td>...</td>\n      <td>...</td>\n      <td>...</td>\n      <td>...</td>\n      <td>...</td>\n      <td>...</td>\n      <td>...</td>\n    </tr>\n    <tr>\n      <th>95</th>\n      <td>2022-12-12</td>\n      <td>10.26</td>\n      <td>10.26</td>\n      <td>9.818</td>\n      <td>8.6615</td>\n      <td>1</td>\n      <td>0.0</td>\n    </tr>\n    <tr>\n      <th>96</th>\n      <td>2022-12-13</td>\n      <td>10.65</td>\n      <td>10.65</td>\n      <td>10.134</td>\n      <td>8.7540</td>\n      <td>1</td>\n      <td>0.0</td>\n    </tr>\n    <tr>\n      <th>97</th>\n      <td>2022-12-14</td>\n      <td>11.23</td>\n      <td>11.23</td>\n      <td>10.512</td>\n      <td>8.8950</td>\n      <td>1</td>\n      <td>0.0</td>\n    </tr>\n    <tr>\n      <th>98</th>\n      <td>2022-12-15</td>\n      <td>10.63</td>\n      <td>10.63</td>\n      <td>10.584</td>\n      <td>8.9980</td>\n      <td>1</td>\n      <td>0.0</td>\n    </tr>\n    <tr>\n      <th>99</th>\n      <td>2022-12-16</td>\n      <td>10.62</td>\n      <td>10.62</td>\n      <td>10.678</td>\n      <td>9.1210</td>\n      <td>1</td>\n      <td>0.0</td>\n    </tr>\n  </tbody>\n</table>\n<p>100 rows × 7 columns</p>\n</div>"
     },
     "execution_count": 12,
     "metadata": {},
     "output_type": "execute_result"
    }
   ],
   "source": [
    "# 填充持仓列的第一个NaN值\n",
    "df.loc[0, 'Position'] = df.loc[0, 'Signal']\n",
    "df"
   ],
   "metadata": {
    "collapsed": false
   }
  },
  {
   "cell_type": "code",
   "execution_count": 14,
   "outputs": [
    {
     "data": {
      "text/plain": "          Day  Closing  Volume    SMA5   SMA20  Signal  Position    Return\n0  2022-07-22     6.81    6.81     NaN     NaN       0       0.0       NaN\n1  2022-07-25     6.58    6.58     NaN     NaN       0       0.0 -0.033774\n2  2022-07-26     6.93    6.93     NaN     NaN       0       0.0  0.053191\n3  2022-07-27     6.73    6.73     NaN     NaN       0       0.0 -0.028860\n4  2022-07-28     6.66    6.66   6.742     NaN       0       0.0 -0.010401\n..        ...      ...     ...     ...     ...     ...       ...       ...\n95 2022-12-12    10.26   10.26   9.818  8.6615       1       0.0  0.010837\n96 2022-12-13    10.65   10.65  10.134  8.7540       1       0.0  0.038012\n97 2022-12-14    11.23   11.23  10.512  8.8950       1       0.0  0.054460\n98 2022-12-15    10.63   10.63  10.584  8.9980       1       0.0 -0.053428\n99 2022-12-16    10.62   10.62  10.678  9.1210       1       0.0 -0.000941\n\n[100 rows x 8 columns]",
      "text/html": "<div>\n<style scoped>\n    .dataframe tbody tr th:only-of-type {\n        vertical-align: middle;\n    }\n\n    .dataframe tbody tr th {\n        vertical-align: top;\n    }\n\n    .dataframe thead th {\n        text-align: right;\n    }\n</style>\n<table border=\"1\" class=\"dataframe\">\n  <thead>\n    <tr style=\"text-align: right;\">\n      <th></th>\n      <th>Day</th>\n      <th>Closing</th>\n      <th>Volume</th>\n      <th>SMA5</th>\n      <th>SMA20</th>\n      <th>Signal</th>\n      <th>Position</th>\n      <th>Return</th>\n    </tr>\n  </thead>\n  <tbody>\n    <tr>\n      <th>0</th>\n      <td>2022-07-22</td>\n      <td>6.81</td>\n      <td>6.81</td>\n      <td>NaN</td>\n      <td>NaN</td>\n      <td>0</td>\n      <td>0.0</td>\n      <td>NaN</td>\n    </tr>\n    <tr>\n      <th>1</th>\n      <td>2022-07-25</td>\n      <td>6.58</td>\n      <td>6.58</td>\n      <td>NaN</td>\n      <td>NaN</td>\n      <td>0</td>\n      <td>0.0</td>\n      <td>-0.033774</td>\n    </tr>\n    <tr>\n      <th>2</th>\n      <td>2022-07-26</td>\n      <td>6.93</td>\n      <td>6.93</td>\n      <td>NaN</td>\n      <td>NaN</td>\n      <td>0</td>\n      <td>0.0</td>\n      <td>0.053191</td>\n    </tr>\n    <tr>\n      <th>3</th>\n      <td>2022-07-27</td>\n      <td>6.73</td>\n      <td>6.73</td>\n      <td>NaN</td>\n      <td>NaN</td>\n      <td>0</td>\n      <td>0.0</td>\n      <td>-0.028860</td>\n    </tr>\n    <tr>\n      <th>4</th>\n      <td>2022-07-28</td>\n      <td>6.66</td>\n      <td>6.66</td>\n      <td>6.742</td>\n      <td>NaN</td>\n      <td>0</td>\n      <td>0.0</td>\n      <td>-0.010401</td>\n    </tr>\n    <tr>\n      <th>...</th>\n      <td>...</td>\n      <td>...</td>\n      <td>...</td>\n      <td>...</td>\n      <td>...</td>\n      <td>...</td>\n      <td>...</td>\n      <td>...</td>\n    </tr>\n    <tr>\n      <th>95</th>\n      <td>2022-12-12</td>\n      <td>10.26</td>\n      <td>10.26</td>\n      <td>9.818</td>\n      <td>8.6615</td>\n      <td>1</td>\n      <td>0.0</td>\n      <td>0.010837</td>\n    </tr>\n    <tr>\n      <th>96</th>\n      <td>2022-12-13</td>\n      <td>10.65</td>\n      <td>10.65</td>\n      <td>10.134</td>\n      <td>8.7540</td>\n      <td>1</td>\n      <td>0.0</td>\n      <td>0.038012</td>\n    </tr>\n    <tr>\n      <th>97</th>\n      <td>2022-12-14</td>\n      <td>11.23</td>\n      <td>11.23</td>\n      <td>10.512</td>\n      <td>8.8950</td>\n      <td>1</td>\n      <td>0.0</td>\n      <td>0.054460</td>\n    </tr>\n    <tr>\n      <th>98</th>\n      <td>2022-12-15</td>\n      <td>10.63</td>\n      <td>10.63</td>\n      <td>10.584</td>\n      <td>8.9980</td>\n      <td>1</td>\n      <td>0.0</td>\n      <td>-0.053428</td>\n    </tr>\n    <tr>\n      <th>99</th>\n      <td>2022-12-16</td>\n      <td>10.62</td>\n      <td>10.62</td>\n      <td>10.678</td>\n      <td>9.1210</td>\n      <td>1</td>\n      <td>0.0</td>\n      <td>-0.000941</td>\n    </tr>\n  </tbody>\n</table>\n<p>100 rows × 8 columns</p>\n</div>"
     },
     "execution_count": 14,
     "metadata": {},
     "output_type": "execute_result"
    }
   ],
   "source": [
    "# 计算每日收益率\n",
    "df['Return'] = df['Closing'].pct_change()\n",
    "df"
   ],
   "metadata": {
    "collapsed": false
   }
  },
  {
   "cell_type": "code",
   "execution_count": 15,
   "outputs": [
    {
     "data": {
      "text/plain": "          Day  Closing  Volume    SMA5   SMA20  Signal  Position    Return  \\\n0  2022-07-22     6.81    6.81     NaN     NaN       0       0.0       NaN   \n1  2022-07-25     6.58    6.58     NaN     NaN       0       0.0 -0.033774   \n2  2022-07-26     6.93    6.93     NaN     NaN       0       0.0  0.053191   \n3  2022-07-27     6.73    6.73     NaN     NaN       0       0.0 -0.028860   \n4  2022-07-28     6.66    6.66   6.742     NaN       0       0.0 -0.010401   \n..        ...      ...     ...     ...     ...     ...       ...       ...   \n95 2022-12-12    10.26   10.26   9.818  8.6615       1       0.0  0.010837   \n96 2022-12-13    10.65   10.65  10.134  8.7540       1       0.0  0.038012   \n97 2022-12-14    11.23   11.23  10.512  8.8950       1       0.0  0.054460   \n98 2022-12-15    10.63   10.63  10.584  8.9980       1       0.0 -0.053428   \n99 2022-12-16    10.62   10.62  10.678  9.1210       1       0.0 -0.000941   \n\n    StrategyReturn  \n0              NaN  \n1             -0.0  \n2              0.0  \n3             -0.0  \n4             -0.0  \n..             ...  \n95             0.0  \n96             0.0  \n97             0.0  \n98            -0.0  \n99            -0.0  \n\n[100 rows x 9 columns]",
      "text/html": "<div>\n<style scoped>\n    .dataframe tbody tr th:only-of-type {\n        vertical-align: middle;\n    }\n\n    .dataframe tbody tr th {\n        vertical-align: top;\n    }\n\n    .dataframe thead th {\n        text-align: right;\n    }\n</style>\n<table border=\"1\" class=\"dataframe\">\n  <thead>\n    <tr style=\"text-align: right;\">\n      <th></th>\n      <th>Day</th>\n      <th>Closing</th>\n      <th>Volume</th>\n      <th>SMA5</th>\n      <th>SMA20</th>\n      <th>Signal</th>\n      <th>Position</th>\n      <th>Return</th>\n      <th>StrategyReturn</th>\n    </tr>\n  </thead>\n  <tbody>\n    <tr>\n      <th>0</th>\n      <td>2022-07-22</td>\n      <td>6.81</td>\n      <td>6.81</td>\n      <td>NaN</td>\n      <td>NaN</td>\n      <td>0</td>\n      <td>0.0</td>\n      <td>NaN</td>\n      <td>NaN</td>\n    </tr>\n    <tr>\n      <th>1</th>\n      <td>2022-07-25</td>\n      <td>6.58</td>\n      <td>6.58</td>\n      <td>NaN</td>\n      <td>NaN</td>\n      <td>0</td>\n      <td>0.0</td>\n      <td>-0.033774</td>\n      <td>-0.0</td>\n    </tr>\n    <tr>\n      <th>2</th>\n      <td>2022-07-26</td>\n      <td>6.93</td>\n      <td>6.93</td>\n      <td>NaN</td>\n      <td>NaN</td>\n      <td>0</td>\n      <td>0.0</td>\n      <td>0.053191</td>\n      <td>0.0</td>\n    </tr>\n    <tr>\n      <th>3</th>\n      <td>2022-07-27</td>\n      <td>6.73</td>\n      <td>6.73</td>\n      <td>NaN</td>\n      <td>NaN</td>\n      <td>0</td>\n      <td>0.0</td>\n      <td>-0.028860</td>\n      <td>-0.0</td>\n    </tr>\n    <tr>\n      <th>4</th>\n      <td>2022-07-28</td>\n      <td>6.66</td>\n      <td>6.66</td>\n      <td>6.742</td>\n      <td>NaN</td>\n      <td>0</td>\n      <td>0.0</td>\n      <td>-0.010401</td>\n      <td>-0.0</td>\n    </tr>\n    <tr>\n      <th>...</th>\n      <td>...</td>\n      <td>...</td>\n      <td>...</td>\n      <td>...</td>\n      <td>...</td>\n      <td>...</td>\n      <td>...</td>\n      <td>...</td>\n      <td>...</td>\n    </tr>\n    <tr>\n      <th>95</th>\n      <td>2022-12-12</td>\n      <td>10.26</td>\n      <td>10.26</td>\n      <td>9.818</td>\n      <td>8.6615</td>\n      <td>1</td>\n      <td>0.0</td>\n      <td>0.010837</td>\n      <td>0.0</td>\n    </tr>\n    <tr>\n      <th>96</th>\n      <td>2022-12-13</td>\n      <td>10.65</td>\n      <td>10.65</td>\n      <td>10.134</td>\n      <td>8.7540</td>\n      <td>1</td>\n      <td>0.0</td>\n      <td>0.038012</td>\n      <td>0.0</td>\n    </tr>\n    <tr>\n      <th>97</th>\n      <td>2022-12-14</td>\n      <td>11.23</td>\n      <td>11.23</td>\n      <td>10.512</td>\n      <td>8.8950</td>\n      <td>1</td>\n      <td>0.0</td>\n      <td>0.054460</td>\n      <td>0.0</td>\n    </tr>\n    <tr>\n      <th>98</th>\n      <td>2022-12-15</td>\n      <td>10.63</td>\n      <td>10.63</td>\n      <td>10.584</td>\n      <td>8.9980</td>\n      <td>1</td>\n      <td>0.0</td>\n      <td>-0.053428</td>\n      <td>-0.0</td>\n    </tr>\n    <tr>\n      <th>99</th>\n      <td>2022-12-16</td>\n      <td>10.62</td>\n      <td>10.62</td>\n      <td>10.678</td>\n      <td>9.1210</td>\n      <td>1</td>\n      <td>0.0</td>\n      <td>-0.000941</td>\n      <td>-0.0</td>\n    </tr>\n  </tbody>\n</table>\n<p>100 rows × 9 columns</p>\n</div>"
     },
     "execution_count": 15,
     "metadata": {},
     "output_type": "execute_result"
    }
   ],
   "source": [
    "# 计算策略收益率\n",
    "df['StrategyReturn'] = df['Position'].shift() * df['Return']\n",
    "df"
   ],
   "metadata": {
    "collapsed": false
   }
  },
  {
   "cell_type": "code",
   "execution_count": 16,
   "outputs": [
    {
     "data": {
      "text/plain": "          Day  Closing  Volume    SMA5   SMA20  Signal  Position    Return  \\\n0  2022-07-22     6.81    6.81     NaN     NaN       0       0.0       NaN   \n1  2022-07-25     6.58    6.58     NaN     NaN       0       0.0 -0.033774   \n2  2022-07-26     6.93    6.93     NaN     NaN       0       0.0  0.053191   \n3  2022-07-27     6.73    6.73     NaN     NaN       0       0.0 -0.028860   \n4  2022-07-28     6.66    6.66   6.742     NaN       0       0.0 -0.010401   \n..        ...      ...     ...     ...     ...     ...       ...       ...   \n95 2022-12-12    10.26   10.26   9.818  8.6615       1       0.0  0.010837   \n96 2022-12-13    10.65   10.65  10.134  8.7540       1       0.0  0.038012   \n97 2022-12-14    11.23   11.23  10.512  8.8950       1       0.0  0.054460   \n98 2022-12-15    10.63   10.63  10.584  8.9980       1       0.0 -0.053428   \n99 2022-12-16    10.62   10.62  10.678  9.1210       1       0.0 -0.000941   \n\n    StrategyReturn  CumulativeReturn  \n0              NaN               NaN  \n1             -0.0          1.000000  \n2              0.0          1.000000  \n3             -0.0          1.000000  \n4             -0.0          1.000000  \n..             ...               ...  \n95             0.0          0.751406  \n96             0.0          0.751406  \n97             0.0          0.751406  \n98            -0.0          0.751406  \n99            -0.0          0.751406  \n\n[100 rows x 10 columns]",
      "text/html": "<div>\n<style scoped>\n    .dataframe tbody tr th:only-of-type {\n        vertical-align: middle;\n    }\n\n    .dataframe tbody tr th {\n        vertical-align: top;\n    }\n\n    .dataframe thead th {\n        text-align: right;\n    }\n</style>\n<table border=\"1\" class=\"dataframe\">\n  <thead>\n    <tr style=\"text-align: right;\">\n      <th></th>\n      <th>Day</th>\n      <th>Closing</th>\n      <th>Volume</th>\n      <th>SMA5</th>\n      <th>SMA20</th>\n      <th>Signal</th>\n      <th>Position</th>\n      <th>Return</th>\n      <th>StrategyReturn</th>\n      <th>CumulativeReturn</th>\n    </tr>\n  </thead>\n  <tbody>\n    <tr>\n      <th>0</th>\n      <td>2022-07-22</td>\n      <td>6.81</td>\n      <td>6.81</td>\n      <td>NaN</td>\n      <td>NaN</td>\n      <td>0</td>\n      <td>0.0</td>\n      <td>NaN</td>\n      <td>NaN</td>\n      <td>NaN</td>\n    </tr>\n    <tr>\n      <th>1</th>\n      <td>2022-07-25</td>\n      <td>6.58</td>\n      <td>6.58</td>\n      <td>NaN</td>\n      <td>NaN</td>\n      <td>0</td>\n      <td>0.0</td>\n      <td>-0.033774</td>\n      <td>-0.0</td>\n      <td>1.000000</td>\n    </tr>\n    <tr>\n      <th>2</th>\n      <td>2022-07-26</td>\n      <td>6.93</td>\n      <td>6.93</td>\n      <td>NaN</td>\n      <td>NaN</td>\n      <td>0</td>\n      <td>0.0</td>\n      <td>0.053191</td>\n      <td>0.0</td>\n      <td>1.000000</td>\n    </tr>\n    <tr>\n      <th>3</th>\n      <td>2022-07-27</td>\n      <td>6.73</td>\n      <td>6.73</td>\n      <td>NaN</td>\n      <td>NaN</td>\n      <td>0</td>\n      <td>0.0</td>\n      <td>-0.028860</td>\n      <td>-0.0</td>\n      <td>1.000000</td>\n    </tr>\n    <tr>\n      <th>4</th>\n      <td>2022-07-28</td>\n      <td>6.66</td>\n      <td>6.66</td>\n      <td>6.742</td>\n      <td>NaN</td>\n      <td>0</td>\n      <td>0.0</td>\n      <td>-0.010401</td>\n      <td>-0.0</td>\n      <td>1.000000</td>\n    </tr>\n    <tr>\n      <th>...</th>\n      <td>...</td>\n      <td>...</td>\n      <td>...</td>\n      <td>...</td>\n      <td>...</td>\n      <td>...</td>\n      <td>...</td>\n      <td>...</td>\n      <td>...</td>\n      <td>...</td>\n    </tr>\n    <tr>\n      <th>95</th>\n      <td>2022-12-12</td>\n      <td>10.26</td>\n      <td>10.26</td>\n      <td>9.818</td>\n      <td>8.6615</td>\n      <td>1</td>\n      <td>0.0</td>\n      <td>0.010837</td>\n      <td>0.0</td>\n      <td>0.751406</td>\n    </tr>\n    <tr>\n      <th>96</th>\n      <td>2022-12-13</td>\n      <td>10.65</td>\n      <td>10.65</td>\n      <td>10.134</td>\n      <td>8.7540</td>\n      <td>1</td>\n      <td>0.0</td>\n      <td>0.038012</td>\n      <td>0.0</td>\n      <td>0.751406</td>\n    </tr>\n    <tr>\n      <th>97</th>\n      <td>2022-12-14</td>\n      <td>11.23</td>\n      <td>11.23</td>\n      <td>10.512</td>\n      <td>8.8950</td>\n      <td>1</td>\n      <td>0.0</td>\n      <td>0.054460</td>\n      <td>0.0</td>\n      <td>0.751406</td>\n    </tr>\n    <tr>\n      <th>98</th>\n      <td>2022-12-15</td>\n      <td>10.63</td>\n      <td>10.63</td>\n      <td>10.584</td>\n      <td>8.9980</td>\n      <td>1</td>\n      <td>0.0</td>\n      <td>-0.053428</td>\n      <td>-0.0</td>\n      <td>0.751406</td>\n    </tr>\n    <tr>\n      <th>99</th>\n      <td>2022-12-16</td>\n      <td>10.62</td>\n      <td>10.62</td>\n      <td>10.678</td>\n      <td>9.1210</td>\n      <td>1</td>\n      <td>0.0</td>\n      <td>-0.000941</td>\n      <td>-0.0</td>\n      <td>0.751406</td>\n    </tr>\n  </tbody>\n</table>\n<p>100 rows × 10 columns</p>\n</div>"
     },
     "execution_count": 16,
     "metadata": {},
     "output_type": "execute_result"
    }
   ],
   "source": [
    "# 计算累积收益率\n",
    "df['CumulativeReturn'] = (1 + df['StrategyReturn']).cumprod()\n",
    "df"
   ],
   "metadata": {
    "collapsed": false
   }
  },
  {
   "cell_type": "code",
   "execution_count": 17,
   "outputs": [
    {
     "name": "stdout",
     "output_type": "stream",
     "text": [
      "Total Return: -24.86%\n"
     ]
    }
   ],
   "source": [
    "# 计算总收益率\n",
    "total_return = df['CumulativeReturn'].iloc[-1] - 1\n",
    "print(f\"Total Return: {total_return:.2%}\")"
   ],
   "metadata": {
    "collapsed": false
   }
  },
  {
   "cell_type": "code",
   "execution_count": null,
   "outputs": [],
   "source": [],
   "metadata": {
    "collapsed": false
   }
  }
 ],
 "metadata": {
  "kernelspec": {
   "display_name": "Python 3",
   "language": "python",
   "name": "python3"
  },
  "language_info": {
   "codemirror_mode": {
    "name": "ipython",
    "version": 2
   },
   "file_extension": ".py",
   "mimetype": "text/x-python",
   "name": "python",
   "nbconvert_exporter": "python",
   "pygments_lexer": "ipython2",
   "version": "2.7.6"
  }
 },
 "nbformat": 4,
 "nbformat_minor": 0
}
